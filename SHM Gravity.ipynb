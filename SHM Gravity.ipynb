{
 "cells": [
  {
   "cell_type": "code",
   "execution_count": 1,
   "metadata": {
    "scrolled": true
   },
   "outputs": [
    {
     "data": {
      "text/html": [
       "<div id=\"glowscript\" class=\"glowscript\"></div>"
      ],
      "text/plain": [
       "<IPython.core.display.HTML object>"
      ]
     },
     "metadata": {},
     "output_type": "display_data"
    },
    {
     "data": {
      "application/javascript": [
       "if (typeof Jupyter !== \"undefined\") { window.__context = { glowscript_container: $(\"#glowscript\").removeAttr(\"id\")};}else{ element.textContent = ' ';}"
      ],
      "text/plain": [
       "<IPython.core.display.Javascript object>"
      ]
     },
     "metadata": {},
     "output_type": "display_data"
    },
    {
     "data": {
      "text/html": [
       "<div id=\"glowscript\" class=\"glowscript\"></div>"
      ],
      "text/plain": [
       "<IPython.core.display.HTML object>"
      ]
     },
     "metadata": {},
     "output_type": "display_data"
    },
    {
     "data": {
      "application/javascript": [
       "if (typeof Jupyter !== \"undefined\") { window.__context = { glowscript_container: $(\"#glowscript\").removeAttr(\"id\")};}else{ element.textContent = ' ';}"
      ],
      "text/plain": [
       "<IPython.core.display.Javascript object>"
      ]
     },
     "metadata": {},
     "output_type": "display_data"
    },
    {
     "data": {
      "application/javascript": [
       "if (typeof Jupyter !== \"undefined\") {require.undef(\"nbextensions/vpython_libraries/glow.min\");}else{element.textContent = ' ';}"
      ],
      "text/plain": [
       "<IPython.core.display.Javascript object>"
      ]
     },
     "metadata": {},
     "output_type": "display_data"
    },
    {
     "data": {
      "application/javascript": [
       "if (typeof Jupyter !== \"undefined\") {require.undef(\"nbextensions/vpython_libraries/glowcomm\");}else{element.textContent = ' ';}"
      ],
      "text/plain": [
       "<IPython.core.display.Javascript object>"
      ]
     },
     "metadata": {},
     "output_type": "display_data"
    },
    {
     "data": {
      "application/javascript": [
       "if (typeof Jupyter !== \"undefined\") {require.undef(\"nbextensions/vpython_libraries/jquery-ui.custom.min\");}else{element.textContent = ' ';}"
      ],
      "text/plain": [
       "<IPython.core.display.Javascript object>"
      ]
     },
     "metadata": {},
     "output_type": "display_data"
    },
    {
     "data": {
      "application/javascript": [
       "if (typeof Jupyter !== \"undefined\") {require([\"nbextensions/vpython_libraries/glow.min\"], function(){console.log(\"GLOW LOADED\");});}else{element.textContent = ' ';}"
      ],
      "text/plain": [
       "<IPython.core.display.Javascript object>"
      ]
     },
     "metadata": {},
     "output_type": "display_data"
    },
    {
     "data": {
      "application/javascript": [
       "if (typeof Jupyter !== \"undefined\") {require([\"nbextensions/vpython_libraries/glowcomm\"], function(){console.log(\"GLOWCOMM LOADED\");});}else{element.textContent = ' ';}"
      ],
      "text/plain": [
       "<IPython.core.display.Javascript object>"
      ]
     },
     "metadata": {},
     "output_type": "display_data"
    },
    {
     "data": {
      "application/javascript": [
       "if (typeof Jupyter !== \"undefined\") {require([\"nbextensions/vpython_libraries/jquery-ui.custom.min\"], function(){console.log(\"JQUERY LOADED\");});}else{element.textContent = ' ';}"
      ],
      "text/plain": [
       "<IPython.core.display.Javascript object>"
      ]
     },
     "metadata": {},
     "output_type": "display_data"
    }
   ],
   "source": [
    "from vpython import *\n",
    "scene = canvas()\n",
    "\n",
    "graph(ytitle = 'position',xtitle = 'time')\n",
    "position_plot = gcurve(color = color.blue,\n",
    "                         label = \"y position\")\n",
    "graph(ytitle = 'velocity',xtitle = 'time')\n",
    "velocity_plot = gcurve(color = color.blue,\n",
    "                         label = \"y position\")"
   ]
  },
  {
   "cell_type": "code",
   "execution_count": 2,
   "metadata": {},
   "outputs": [],
   "source": [
    "##Shapes\n",
    "wall = box(pos = vector(-4,0,0),\n",
    "           size = vector(0.1,2,2),\n",
    "           texture = textures.wood_old\n",
    "          )\n",
    "wall_dos = box(pos = vector(4,4,0),\n",
    "           size = vector(2,0.1,2),\n",
    "           texture = textures.wood_old\n",
    "          )\n",
    "\n",
    "Bob_H = sphere(radius = 0.5,\n",
    "              pos = wall.pos + vector(2,0,0),\n",
    "               color = color.purple,\n",
    "               mass = 1,\n",
    "               vel = vector(0,0,0)\n",
    "              )\n",
    "Bob_V = sphere(radius = 0.5,\n",
    "              pos = wall_dos.pos + vector(0,-2,0),\n",
    "               color = color.purple,\n",
    "               mass = 1,\n",
    "               vel = vector(0,0,0)\n",
    "              )\n",
    "\n",
    "spring = helix(pos = wall.pos,\n",
    "              axis = Bob_H.pos - wall.pos,\n",
    "               radius = 0.3,\n",
    "               color = color.orange\n",
    "              )\n",
    "spring_dos = helix(pos = wall_dos.pos,\n",
    "              axis = Bob_V.pos - wall_dos.pos,\n",
    "               radius = 0.3,\n",
    "               color = color.orange\n",
    "              )"
   ]
  },
  {
   "cell_type": "code",
   "execution_count": 3,
   "metadata": {},
   "outputs": [],
   "source": [
    "##parameters\n",
    "equilibrium_length = mag(Bob_H.pos - wall.pos)\n",
    "initial_stretch = vector(1.2,0,0)\n",
    "Bob_H.pos = Bob_H.pos + initial_stretch\n",
    "spring.axis = Bob_H.pos - wall.pos\n",
    "\n",
    "k = 10 # N/m\n",
    "m = 1 #kg\n",
    "g = vector(0,-9.8,0)\n",
    "\n",
    "### params for vertical wall\n",
    "equilibrium_length_dos = mag(Bob_V.pos - wall_dos.pos)\n",
    "initial_stretch_dos = vector(0,-1.2,0)\n",
    "Bob_V.pos = Bob_V.pos + initial_stretch_dos\n",
    "spring_dos.axis = Bob_V.pos - wall_dos.pos\n"
   ]
  },
  {
   "cell_type": "code",
   "execution_count": 4,
   "metadata": {},
   "outputs": [],
   "source": [
    "t = 0 #s\n",
    "dt = 0.1 #s\n",
    "\n",
    "#Dynamics\n",
    "while (t < 100):\n",
    "    rate(1/dt)\n",
    "    \n",
    "    stretch = mag(Bob_H.pos - wall.pos) - equilibrium_length\n",
    "    F = -k*stretch*spring.axis.hat\n",
    "    acc = F/Bob_H.mass\n",
    "    \n",
    "    Bob_H.vel = Bob_H.vel + acc*dt\n",
    "    Bob_H.pos = Bob_H.pos + Bob_H.vel*dt\n",
    "    \n",
    "    spring.axis = Bob_H.pos - wall.pos\n",
    "    \n",
    "    ##### veritcal wall input #####\n",
    "    stretch_dos = mag(Bob_V.pos - wall_dos.pos) - equilibrium_length_dos\n",
    "    F_dos = -k*stretch_dos*spring_dos.axis.hat\n",
    "    acc_dos = F_dos/Bob_V.mass\n",
    "    \n",
    "    Bob_V.vel = Bob_V.vel + acc_dos*dt\n",
    "    Bob_V.pos = Bob_V.pos + Bob_V.vel*dt\n",
    "    \n",
    "    spring_dos.axis = Bob_V.pos - wall_dos.pos\n",
    "    \n",
    "    #horizontal\n",
    "    #position_plot.plot(t, Bob_H.pos.x)\n",
    "    #velocity_plot.plot(t, Bob_H.vel.x)\n",
    "    #vertical\n",
    "    position_plot.plot(t, Bob_V.pos.y)\n",
    "    velocity_plot.plot(t, Bob_V.vel.y)\n",
    "\n",
    "\n",
    "    t = t+dt\n"
   ]
  },
  {
   "cell_type": "markdown",
   "metadata": {},
   "source": [
    "What is the effect on the oscillation frequency/period?\n",
    "We can see that the period is rougly around 2 seconds. We can say 1.8s if wanna try to be more accurate\n",
    "Now the frequency is the number of times it goes through a full period. So if we did 1/1.8 = 5.55e-1 hz.\n",
    "\n",
    "What is the effect on the oscillation amplitude?\n",
    "The amplitude is about 2.4 (3.2-.8) if we take rough estimates of the peak - the trough. \n",
    "What is the effect on the equilibrium position?"
   ]
  },
  {
   "cell_type": "code",
   "execution_count": null,
   "metadata": {},
   "outputs": [],
   "source": []
  },
  {
   "cell_type": "code",
   "execution_count": null,
   "metadata": {},
   "outputs": [],
   "source": []
  },
  {
   "cell_type": "code",
   "execution_count": null,
   "metadata": {},
   "outputs": [],
   "source": []
  }
 ],
 "metadata": {
  "kernelspec": {
   "display_name": "Python 3",
   "language": "python",
   "name": "python3"
  },
  "language_info": {
   "codemirror_mode": {
    "name": "ipython",
    "version": 3
   },
   "file_extension": ".py",
   "mimetype": "text/x-python",
   "name": "python",
   "nbconvert_exporter": "python",
   "pygments_lexer": "ipython3",
   "version": "3.8.3-final"
  }
 },
 "nbformat": 4,
 "nbformat_minor": 4
}